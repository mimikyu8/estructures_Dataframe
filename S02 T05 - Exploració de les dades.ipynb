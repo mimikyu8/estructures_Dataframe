{
 "cells": [
  {
   "cell_type": "markdown",
   "id": "856a343d",
   "metadata": {},
   "source": [
    "# Exercici 1"
   ]
  },
  {
   "cell_type": "markdown",
   "id": "31b40c0f",
   "metadata": {},
   "source": [
    "Descarrega el data set Airlines Delay: Airline on-time statistics and delay causes i carrega’l a un pandas Dataframe. Explora les dades que conté, i queda’t únicament amb les columnes que consideris rellevants."
   ]
  },
  {
   "cell_type": "code",
   "execution_count": 35,
   "id": "e8dabd37",
   "metadata": {},
   "outputs": [],
   "source": [
    "import pandas as pd \n",
    "import numpy as np"
   ]
  },
  {
   "cell_type": "code",
   "execution_count": 36,
   "id": "b593ca75",
   "metadata": {},
   "outputs": [
    {
     "name": "stderr",
     "output_type": "stream",
     "text": [
      "C:\\Users\\Nuria\\anaconda3\\lib\\site-packages\\numpy\\lib\\arraysetops.py:583: FutureWarning: elementwise comparison failed; returning scalar instead, but in the future will perform elementwise comparison\n",
      "  mask |= (ar1 == a)\n"
     ]
    }
   ],
   "source": [
    "df = pd.read_csv(\"DelayedFlights.csv\", index_col = 0)"
   ]
  },
  {
   "cell_type": "code",
   "execution_count": 30,
   "id": "4ccb4e64",
   "metadata": {},
   "outputs": [
    {
     "data": {
      "text/html": [
       "<div>\n",
       "<style scoped>\n",
       "    .dataframe tbody tr th:only-of-type {\n",
       "        vertical-align: middle;\n",
       "    }\n",
       "\n",
       "    .dataframe tbody tr th {\n",
       "        vertical-align: top;\n",
       "    }\n",
       "\n",
       "    .dataframe thead th {\n",
       "        text-align: right;\n",
       "    }\n",
       "</style>\n",
       "<table border=\"1\" class=\"dataframe\">\n",
       "  <thead>\n",
       "    <tr style=\"text-align: right;\">\n",
       "      <th></th>\n",
       "      <th>Year</th>\n",
       "      <th>Month</th>\n",
       "      <th>DayofMonth</th>\n",
       "      <th>DayOfWeek</th>\n",
       "      <th>DepTime</th>\n",
       "      <th>CRSDepTime</th>\n",
       "      <th>ArrTime</th>\n",
       "      <th>CRSArrTime</th>\n",
       "      <th>UniqueCarrier</th>\n",
       "      <th>FlightNum</th>\n",
       "      <th>...</th>\n",
       "      <th>TaxiIn</th>\n",
       "      <th>TaxiOut</th>\n",
       "      <th>Cancelled</th>\n",
       "      <th>CancellationCode</th>\n",
       "      <th>Diverted</th>\n",
       "      <th>CarrierDelay</th>\n",
       "      <th>WeatherDelay</th>\n",
       "      <th>NASDelay</th>\n",
       "      <th>SecurityDelay</th>\n",
       "      <th>LateAircraftDelay</th>\n",
       "    </tr>\n",
       "  </thead>\n",
       "  <tbody>\n",
       "    <tr>\n",
       "      <th>0</th>\n",
       "      <td>2008</td>\n",
       "      <td>1</td>\n",
       "      <td>3</td>\n",
       "      <td>4</td>\n",
       "      <td>2003.0</td>\n",
       "      <td>1955</td>\n",
       "      <td>2211.0</td>\n",
       "      <td>2225</td>\n",
       "      <td>WN</td>\n",
       "      <td>335</td>\n",
       "      <td>...</td>\n",
       "      <td>4.0</td>\n",
       "      <td>8.0</td>\n",
       "      <td>0</td>\n",
       "      <td>N</td>\n",
       "      <td>0</td>\n",
       "      <td>NaN</td>\n",
       "      <td>NaN</td>\n",
       "      <td>NaN</td>\n",
       "      <td>NaN</td>\n",
       "      <td>NaN</td>\n",
       "    </tr>\n",
       "    <tr>\n",
       "      <th>1</th>\n",
       "      <td>2008</td>\n",
       "      <td>1</td>\n",
       "      <td>3</td>\n",
       "      <td>4</td>\n",
       "      <td>754.0</td>\n",
       "      <td>735</td>\n",
       "      <td>1002.0</td>\n",
       "      <td>1000</td>\n",
       "      <td>WN</td>\n",
       "      <td>3231</td>\n",
       "      <td>...</td>\n",
       "      <td>5.0</td>\n",
       "      <td>10.0</td>\n",
       "      <td>0</td>\n",
       "      <td>N</td>\n",
       "      <td>0</td>\n",
       "      <td>NaN</td>\n",
       "      <td>NaN</td>\n",
       "      <td>NaN</td>\n",
       "      <td>NaN</td>\n",
       "      <td>NaN</td>\n",
       "    </tr>\n",
       "    <tr>\n",
       "      <th>2</th>\n",
       "      <td>2008</td>\n",
       "      <td>1</td>\n",
       "      <td>3</td>\n",
       "      <td>4</td>\n",
       "      <td>628.0</td>\n",
       "      <td>620</td>\n",
       "      <td>804.0</td>\n",
       "      <td>750</td>\n",
       "      <td>WN</td>\n",
       "      <td>448</td>\n",
       "      <td>...</td>\n",
       "      <td>3.0</td>\n",
       "      <td>17.0</td>\n",
       "      <td>0</td>\n",
       "      <td>N</td>\n",
       "      <td>0</td>\n",
       "      <td>NaN</td>\n",
       "      <td>NaN</td>\n",
       "      <td>NaN</td>\n",
       "      <td>NaN</td>\n",
       "      <td>NaN</td>\n",
       "    </tr>\n",
       "    <tr>\n",
       "      <th>4</th>\n",
       "      <td>2008</td>\n",
       "      <td>1</td>\n",
       "      <td>3</td>\n",
       "      <td>4</td>\n",
       "      <td>1829.0</td>\n",
       "      <td>1755</td>\n",
       "      <td>1959.0</td>\n",
       "      <td>1925</td>\n",
       "      <td>WN</td>\n",
       "      <td>3920</td>\n",
       "      <td>...</td>\n",
       "      <td>3.0</td>\n",
       "      <td>10.0</td>\n",
       "      <td>0</td>\n",
       "      <td>N</td>\n",
       "      <td>0</td>\n",
       "      <td>2.0</td>\n",
       "      <td>0.0</td>\n",
       "      <td>0.0</td>\n",
       "      <td>0.0</td>\n",
       "      <td>32.0</td>\n",
       "    </tr>\n",
       "    <tr>\n",
       "      <th>5</th>\n",
       "      <td>2008</td>\n",
       "      <td>1</td>\n",
       "      <td>3</td>\n",
       "      <td>4</td>\n",
       "      <td>1940.0</td>\n",
       "      <td>1915</td>\n",
       "      <td>2121.0</td>\n",
       "      <td>2110</td>\n",
       "      <td>WN</td>\n",
       "      <td>378</td>\n",
       "      <td>...</td>\n",
       "      <td>4.0</td>\n",
       "      <td>10.0</td>\n",
       "      <td>0</td>\n",
       "      <td>N</td>\n",
       "      <td>0</td>\n",
       "      <td>NaN</td>\n",
       "      <td>NaN</td>\n",
       "      <td>NaN</td>\n",
       "      <td>NaN</td>\n",
       "      <td>NaN</td>\n",
       "    </tr>\n",
       "    <tr>\n",
       "      <th>6</th>\n",
       "      <td>2008</td>\n",
       "      <td>1</td>\n",
       "      <td>3</td>\n",
       "      <td>4</td>\n",
       "      <td>1937.0</td>\n",
       "      <td>1830</td>\n",
       "      <td>2037.0</td>\n",
       "      <td>1940</td>\n",
       "      <td>WN</td>\n",
       "      <td>509</td>\n",
       "      <td>...</td>\n",
       "      <td>3.0</td>\n",
       "      <td>7.0</td>\n",
       "      <td>0</td>\n",
       "      <td>N</td>\n",
       "      <td>0</td>\n",
       "      <td>10.0</td>\n",
       "      <td>0.0</td>\n",
       "      <td>0.0</td>\n",
       "      <td>0.0</td>\n",
       "      <td>47.0</td>\n",
       "    </tr>\n",
       "    <tr>\n",
       "      <th>10</th>\n",
       "      <td>2008</td>\n",
       "      <td>1</td>\n",
       "      <td>3</td>\n",
       "      <td>4</td>\n",
       "      <td>706.0</td>\n",
       "      <td>700</td>\n",
       "      <td>916.0</td>\n",
       "      <td>915</td>\n",
       "      <td>WN</td>\n",
       "      <td>100</td>\n",
       "      <td>...</td>\n",
       "      <td>5.0</td>\n",
       "      <td>19.0</td>\n",
       "      <td>0</td>\n",
       "      <td>N</td>\n",
       "      <td>0</td>\n",
       "      <td>NaN</td>\n",
       "      <td>NaN</td>\n",
       "      <td>NaN</td>\n",
       "      <td>NaN</td>\n",
       "      <td>NaN</td>\n",
       "    </tr>\n",
       "    <tr>\n",
       "      <th>11</th>\n",
       "      <td>2008</td>\n",
       "      <td>1</td>\n",
       "      <td>3</td>\n",
       "      <td>4</td>\n",
       "      <td>1644.0</td>\n",
       "      <td>1510</td>\n",
       "      <td>1845.0</td>\n",
       "      <td>1725</td>\n",
       "      <td>WN</td>\n",
       "      <td>1333</td>\n",
       "      <td>...</td>\n",
       "      <td>6.0</td>\n",
       "      <td>8.0</td>\n",
       "      <td>0</td>\n",
       "      <td>N</td>\n",
       "      <td>0</td>\n",
       "      <td>8.0</td>\n",
       "      <td>0.0</td>\n",
       "      <td>0.0</td>\n",
       "      <td>0.0</td>\n",
       "      <td>72.0</td>\n",
       "    </tr>\n",
       "    <tr>\n",
       "      <th>15</th>\n",
       "      <td>2008</td>\n",
       "      <td>1</td>\n",
       "      <td>3</td>\n",
       "      <td>4</td>\n",
       "      <td>1029.0</td>\n",
       "      <td>1020</td>\n",
       "      <td>1021.0</td>\n",
       "      <td>1010</td>\n",
       "      <td>WN</td>\n",
       "      <td>2272</td>\n",
       "      <td>...</td>\n",
       "      <td>6.0</td>\n",
       "      <td>9.0</td>\n",
       "      <td>0</td>\n",
       "      <td>N</td>\n",
       "      <td>0</td>\n",
       "      <td>NaN</td>\n",
       "      <td>NaN</td>\n",
       "      <td>NaN</td>\n",
       "      <td>NaN</td>\n",
       "      <td>NaN</td>\n",
       "    </tr>\n",
       "    <tr>\n",
       "      <th>16</th>\n",
       "      <td>2008</td>\n",
       "      <td>1</td>\n",
       "      <td>3</td>\n",
       "      <td>4</td>\n",
       "      <td>1452.0</td>\n",
       "      <td>1425</td>\n",
       "      <td>1640.0</td>\n",
       "      <td>1625</td>\n",
       "      <td>WN</td>\n",
       "      <td>675</td>\n",
       "      <td>...</td>\n",
       "      <td>7.0</td>\n",
       "      <td>8.0</td>\n",
       "      <td>0</td>\n",
       "      <td>N</td>\n",
       "      <td>0</td>\n",
       "      <td>3.0</td>\n",
       "      <td>0.0</td>\n",
       "      <td>0.0</td>\n",
       "      <td>0.0</td>\n",
       "      <td>12.0</td>\n",
       "    </tr>\n",
       "  </tbody>\n",
       "</table>\n",
       "<p>10 rows × 29 columns</p>\n",
       "</div>"
      ],
      "text/plain": [
       "    Year  Month  DayofMonth  DayOfWeek  DepTime  CRSDepTime  ArrTime  \\\n",
       "0   2008      1           3          4   2003.0        1955   2211.0   \n",
       "1   2008      1           3          4    754.0         735   1002.0   \n",
       "2   2008      1           3          4    628.0         620    804.0   \n",
       "4   2008      1           3          4   1829.0        1755   1959.0   \n",
       "5   2008      1           3          4   1940.0        1915   2121.0   \n",
       "6   2008      1           3          4   1937.0        1830   2037.0   \n",
       "10  2008      1           3          4    706.0         700    916.0   \n",
       "11  2008      1           3          4   1644.0        1510   1845.0   \n",
       "15  2008      1           3          4   1029.0        1020   1021.0   \n",
       "16  2008      1           3          4   1452.0        1425   1640.0   \n",
       "\n",
       "    CRSArrTime UniqueCarrier  FlightNum  ... TaxiIn  TaxiOut  Cancelled  \\\n",
       "0         2225            WN        335  ...    4.0      8.0          0   \n",
       "1         1000            WN       3231  ...    5.0     10.0          0   \n",
       "2          750            WN        448  ...    3.0     17.0          0   \n",
       "4         1925            WN       3920  ...    3.0     10.0          0   \n",
       "5         2110            WN        378  ...    4.0     10.0          0   \n",
       "6         1940            WN        509  ...    3.0      7.0          0   \n",
       "10         915            WN        100  ...    5.0     19.0          0   \n",
       "11        1725            WN       1333  ...    6.0      8.0          0   \n",
       "15        1010            WN       2272  ...    6.0      9.0          0   \n",
       "16        1625            WN        675  ...    7.0      8.0          0   \n",
       "\n",
       "    CancellationCode  Diverted  CarrierDelay WeatherDelay NASDelay  \\\n",
       "0                  N         0           NaN          NaN      NaN   \n",
       "1                  N         0           NaN          NaN      NaN   \n",
       "2                  N         0           NaN          NaN      NaN   \n",
       "4                  N         0           2.0          0.0      0.0   \n",
       "5                  N         0           NaN          NaN      NaN   \n",
       "6                  N         0          10.0          0.0      0.0   \n",
       "10                 N         0           NaN          NaN      NaN   \n",
       "11                 N         0           8.0          0.0      0.0   \n",
       "15                 N         0           NaN          NaN      NaN   \n",
       "16                 N         0           3.0          0.0      0.0   \n",
       "\n",
       "    SecurityDelay  LateAircraftDelay  \n",
       "0             NaN                NaN  \n",
       "1             NaN                NaN  \n",
       "2             NaN                NaN  \n",
       "4             0.0               32.0  \n",
       "5             NaN                NaN  \n",
       "6             0.0               47.0  \n",
       "10            NaN                NaN  \n",
       "11            0.0               72.0  \n",
       "15            NaN                NaN  \n",
       "16            0.0               12.0  \n",
       "\n",
       "[10 rows x 29 columns]"
      ]
     },
     "execution_count": 30,
     "metadata": {},
     "output_type": "execute_result"
    }
   ],
   "source": [
    "df.head(10)"
   ]
  },
  {
   "cell_type": "code",
   "execution_count": 31,
   "id": "7b1a0c83",
   "metadata": {},
   "outputs": [
    {
     "name": "stdout",
     "output_type": "stream",
     "text": [
      "<class 'pandas.core.frame.DataFrame'>\n",
      "Int64Index: 1936758 entries, 0 to 7009727\n",
      "Data columns (total 29 columns):\n",
      " #   Column             Dtype  \n",
      "---  ------             -----  \n",
      " 0   Year               int64  \n",
      " 1   Month              int64  \n",
      " 2   DayofMonth         int64  \n",
      " 3   DayOfWeek          int64  \n",
      " 4   DepTime            float64\n",
      " 5   CRSDepTime         int64  \n",
      " 6   ArrTime            float64\n",
      " 7   CRSArrTime         int64  \n",
      " 8   UniqueCarrier      object \n",
      " 9   FlightNum          int64  \n",
      " 10  TailNum            object \n",
      " 11  ActualElapsedTime  float64\n",
      " 12  CRSElapsedTime     float64\n",
      " 13  AirTime            float64\n",
      " 14  ArrDelay           float64\n",
      " 15  DepDelay           float64\n",
      " 16  Origin             object \n",
      " 17  Dest               object \n",
      " 18  Distance           int64  \n",
      " 19  TaxiIn             float64\n",
      " 20  TaxiOut            float64\n",
      " 21  Cancelled          int64  \n",
      " 22  CancellationCode   object \n",
      " 23  Diverted           int64  \n",
      " 24  CarrierDelay       float64\n",
      " 25  WeatherDelay       float64\n",
      " 26  NASDelay           float64\n",
      " 27  SecurityDelay      float64\n",
      " 28  LateAircraftDelay  float64\n",
      "dtypes: float64(14), int64(10), object(5)\n",
      "memory usage: 443.3+ MB\n"
     ]
    }
   ],
   "source": [
    "df.info()"
   ]
  },
  {
   "cell_type": "code",
   "execution_count": 37,
   "id": "396933ed",
   "metadata": {},
   "outputs": [],
   "source": [
    "df = df.drop(columns = [\"CarrierDelay\", \"WeatherDelay\", \"NASDelay\", \"SecurityDelay\", \n",
    "                        \"LateAircraftDelay\", \"TailNum\", \"TaxiIn\", \"TaxiOut\",\n",
    "                        \"CancellationCode\", \"Diverted\", \"Origin\", \"Dest\"])"
   ]
  },
  {
   "cell_type": "code",
   "execution_count": 8,
   "id": "2c2c4905",
   "metadata": {},
   "outputs": [
    {
     "data": {
      "text/html": [
       "<div>\n",
       "<style scoped>\n",
       "    .dataframe tbody tr th:only-of-type {\n",
       "        vertical-align: middle;\n",
       "    }\n",
       "\n",
       "    .dataframe tbody tr th {\n",
       "        vertical-align: top;\n",
       "    }\n",
       "\n",
       "    .dataframe thead th {\n",
       "        text-align: right;\n",
       "    }\n",
       "</style>\n",
       "<table border=\"1\" class=\"dataframe\">\n",
       "  <thead>\n",
       "    <tr style=\"text-align: right;\">\n",
       "      <th></th>\n",
       "      <th>Year</th>\n",
       "      <th>Month</th>\n",
       "      <th>DayofMonth</th>\n",
       "      <th>DayOfWeek</th>\n",
       "      <th>DepTime</th>\n",
       "      <th>CRSDepTime</th>\n",
       "      <th>ArrTime</th>\n",
       "      <th>CRSArrTime</th>\n",
       "      <th>ActualElapsedTime</th>\n",
       "      <th>CRSElapsedTime</th>\n",
       "      <th>AirTime</th>\n",
       "      <th>ArrDelay</th>\n",
       "      <th>DepDelay</th>\n",
       "      <th>Distance</th>\n",
       "      <th>Cancelled</th>\n",
       "    </tr>\n",
       "  </thead>\n",
       "  <tbody>\n",
       "    <tr>\n",
       "      <th>0</th>\n",
       "      <td>2008</td>\n",
       "      <td>1</td>\n",
       "      <td>3</td>\n",
       "      <td>4</td>\n",
       "      <td>2003.0</td>\n",
       "      <td>1955</td>\n",
       "      <td>2211.0</td>\n",
       "      <td>2225</td>\n",
       "      <td>128.0</td>\n",
       "      <td>150.0</td>\n",
       "      <td>116.0</td>\n",
       "      <td>-14.0</td>\n",
       "      <td>8.0</td>\n",
       "      <td>810</td>\n",
       "      <td>0</td>\n",
       "    </tr>\n",
       "    <tr>\n",
       "      <th>1</th>\n",
       "      <td>2008</td>\n",
       "      <td>1</td>\n",
       "      <td>3</td>\n",
       "      <td>4</td>\n",
       "      <td>754.0</td>\n",
       "      <td>735</td>\n",
       "      <td>1002.0</td>\n",
       "      <td>1000</td>\n",
       "      <td>128.0</td>\n",
       "      <td>145.0</td>\n",
       "      <td>113.0</td>\n",
       "      <td>2.0</td>\n",
       "      <td>19.0</td>\n",
       "      <td>810</td>\n",
       "      <td>0</td>\n",
       "    </tr>\n",
       "    <tr>\n",
       "      <th>2</th>\n",
       "      <td>2008</td>\n",
       "      <td>1</td>\n",
       "      <td>3</td>\n",
       "      <td>4</td>\n",
       "      <td>628.0</td>\n",
       "      <td>620</td>\n",
       "      <td>804.0</td>\n",
       "      <td>750</td>\n",
       "      <td>96.0</td>\n",
       "      <td>90.0</td>\n",
       "      <td>76.0</td>\n",
       "      <td>14.0</td>\n",
       "      <td>8.0</td>\n",
       "      <td>515</td>\n",
       "      <td>0</td>\n",
       "    </tr>\n",
       "    <tr>\n",
       "      <th>4</th>\n",
       "      <td>2008</td>\n",
       "      <td>1</td>\n",
       "      <td>3</td>\n",
       "      <td>4</td>\n",
       "      <td>1829.0</td>\n",
       "      <td>1755</td>\n",
       "      <td>1959.0</td>\n",
       "      <td>1925</td>\n",
       "      <td>90.0</td>\n",
       "      <td>90.0</td>\n",
       "      <td>77.0</td>\n",
       "      <td>34.0</td>\n",
       "      <td>34.0</td>\n",
       "      <td>515</td>\n",
       "      <td>0</td>\n",
       "    </tr>\n",
       "    <tr>\n",
       "      <th>5</th>\n",
       "      <td>2008</td>\n",
       "      <td>1</td>\n",
       "      <td>3</td>\n",
       "      <td>4</td>\n",
       "      <td>1940.0</td>\n",
       "      <td>1915</td>\n",
       "      <td>2121.0</td>\n",
       "      <td>2110</td>\n",
       "      <td>101.0</td>\n",
       "      <td>115.0</td>\n",
       "      <td>87.0</td>\n",
       "      <td>11.0</td>\n",
       "      <td>25.0</td>\n",
       "      <td>688</td>\n",
       "      <td>0</td>\n",
       "    </tr>\n",
       "  </tbody>\n",
       "</table>\n",
       "</div>"
      ],
      "text/plain": [
       "   Year  Month  DayofMonth  DayOfWeek  DepTime  CRSDepTime  ArrTime  \\\n",
       "0  2008      1           3          4   2003.0        1955   2211.0   \n",
       "1  2008      1           3          4    754.0         735   1002.0   \n",
       "2  2008      1           3          4    628.0         620    804.0   \n",
       "4  2008      1           3          4   1829.0        1755   1959.0   \n",
       "5  2008      1           3          4   1940.0        1915   2121.0   \n",
       "\n",
       "   CRSArrTime  ActualElapsedTime  CRSElapsedTime  AirTime  ArrDelay  DepDelay  \\\n",
       "0        2225              128.0           150.0    116.0     -14.0       8.0   \n",
       "1        1000              128.0           145.0    113.0       2.0      19.0   \n",
       "2         750               96.0            90.0     76.0      14.0       8.0   \n",
       "4        1925               90.0            90.0     77.0      34.0      34.0   \n",
       "5        2110              101.0           115.0     87.0      11.0      25.0   \n",
       "\n",
       "   Distance  Cancelled  \n",
       "0       810          0  \n",
       "1       810          0  \n",
       "2       515          0  \n",
       "4       515          0  \n",
       "5       688          0  "
      ]
     },
     "execution_count": 8,
     "metadata": {},
     "output_type": "execute_result"
    }
   ],
   "source": [
    "df.head()"
   ]
  },
  {
   "cell_type": "code",
   "execution_count": 9,
   "id": "c3bfade8",
   "metadata": {},
   "outputs": [
    {
     "name": "stdout",
     "output_type": "stream",
     "text": [
      "<class 'pandas.core.frame.DataFrame'>\n",
      "Int64Index: 1936758 entries, 0 to 7009727\n",
      "Data columns (total 15 columns):\n",
      " #   Column             Dtype  \n",
      "---  ------             -----  \n",
      " 0   Year               int64  \n",
      " 1   Month              int64  \n",
      " 2   DayofMonth         int64  \n",
      " 3   DayOfWeek          int64  \n",
      " 4   DepTime            float64\n",
      " 5   CRSDepTime         int64  \n",
      " 6   ArrTime            float64\n",
      " 7   CRSArrTime         int64  \n",
      " 8   ActualElapsedTime  float64\n",
      " 9   CRSElapsedTime     float64\n",
      " 10  AirTime            float64\n",
      " 11  ArrDelay           float64\n",
      " 12  DepDelay           float64\n",
      " 13  Distance           int64  \n",
      " 14  Cancelled          int64  \n",
      "dtypes: float64(7), int64(8)\n",
      "memory usage: 236.4 MB\n"
     ]
    }
   ],
   "source": [
    "df.info()"
   ]
  },
  {
   "cell_type": "markdown",
   "id": "21edc0f9",
   "metadata": {},
   "source": [
    "# Exercici 2"
   ]
  },
  {
   "cell_type": "markdown",
   "id": "4883b8d3",
   "metadata": {},
   "source": [
    "Fes un informe complet del data set:"
   ]
  },
  {
   "cell_type": "markdown",
   "id": "5fa7280a",
   "metadata": {},
   "source": [
    "* Resumeix estadísticament les columnes d’interès"
   ]
  },
  {
   "cell_type": "code",
   "execution_count": 25,
   "id": "24333025",
   "metadata": {},
   "outputs": [
    {
     "name": "stdout",
     "output_type": "stream",
     "text": [
      "Mitjana ActualElapsedTime: 133.30586334268665\n",
      "Desviació estàndar ActualElapsedTime: 72.06006897518652\n",
      "Mediana ActualElapsedTime: 116.0\n",
      "Moda ActualElapsedTime: 0    80.0\n",
      "dtype: float64\n",
      "En minuts\n"
     ]
    }
   ],
   "source": [
    "print(\"Mitjana ActualElapsedTime:\", df[\"ActualElapsedTime\"].mean())\n",
    "print(\"Desviació estàndar ActualElapsedTime:\", df[\"ActualElapsedTime\"].std())\n",
    "print(\"Mediana ActualElapsedTime:\", df[\"ActualElapsedTime\"].median())\n",
    "print(\"Moda ActualElapsedTime:\", df[\"ActualElapsedTime\"].mode())\n",
    "print(\"En minuts\")"
   ]
  },
  {
   "cell_type": "code",
   "execution_count": 26,
   "id": "aa64cc5d",
   "metadata": {},
   "outputs": [
    {
     "name": "stdout",
     "output_type": "stream",
     "text": [
      "Mitjana CRSElapsedTime: 134.3027440409799\n",
      "Desviació estàndar CRSElapsedTime: 71.34143888168691\n",
      "Mediana CRSElapsedTime: 116.0\n",
      "Moda CRSElapsedTime: 0    75.0\n",
      "dtype: float64\n",
      "En minuts\n"
     ]
    }
   ],
   "source": [
    "print(\"Mitjana CRSElapsedTime:\", df[\"CRSElapsedTime\"].mean())\n",
    "print(\"Desviació estàndar CRSElapsedTime:\", df[\"CRSElapsedTime\"].std())\n",
    "print(\"Mediana CRSElapsedTime:\", df[\"CRSElapsedTime\"].median())\n",
    "print(\"Moda CRSElapsedTime:\", df[\"CRSElapsedTime\"].mode())\n",
    "print(\"En minuts\")"
   ]
  },
  {
   "cell_type": "code",
   "execution_count": 27,
   "id": "e80619f2",
   "metadata": {},
   "outputs": [
    {
     "name": "stdout",
     "output_type": "stream",
     "text": [
      "Mitjana AirTime: 108.27714739539228\n",
      "Desviació estàndar AirTime: 68.6426101386457\n",
      "Mediana AirTime: 90.0\n",
      "Moda AirTime: 0    45.0\n",
      "dtype: float64\n",
      "En minuts\n"
     ]
    }
   ],
   "source": [
    "print(\"Mitjana AirTime:\", df[\"AirTime\"].mean())\n",
    "print(\"Desviació estàndar AirTime:\", df[\"AirTime\"].std())\n",
    "print(\"Mediana AirTime:\", df[\"AirTime\"].median())\n",
    "print(\"Moda AirTime:\", df[\"AirTime\"].mode())\n",
    "print(\"En minuts\")"
   ]
  },
  {
   "cell_type": "code",
   "execution_count": 28,
   "id": "8274a392",
   "metadata": {},
   "outputs": [
    {
     "name": "stdout",
     "output_type": "stream",
     "text": [
      "Mitjana ArrDelay: 42.19988477321014\n",
      "Desviació estàndar ArrDelay: 56.78471513743561\n",
      "Mediana ArrDelay: 24.0\n",
      "Moda ArrDelay: 0    10.0\n",
      "dtype: float64\n",
      "En minuts\n"
     ]
    }
   ],
   "source": [
    "print(\"Mitjana ArrDelay:\", df[\"ArrDelay\"].mean())\n",
    "print(\"Desviació estàndar ArrDelay:\", df[\"ArrDelay\"].std())\n",
    "print(\"Mediana ArrDelay:\", df[\"ArrDelay\"].median())\n",
    "print(\"Moda ArrDelay:\", df[\"ArrDelay\"].mode())\n",
    "print(\"En minuts\")"
   ]
  },
  {
   "cell_type": "code",
   "execution_count": 29,
   "id": "e911c146",
   "metadata": {},
   "outputs": [
    {
     "name": "stdout",
     "output_type": "stream",
     "text": [
      "Mitjana DepDelay: 43.185176464999756\n",
      "Desviació estàndar DepDelay: 53.40250234363254\n",
      "Mediana DepDelay: 24.0\n",
      "Moda DepDelay: 0    6.0\n",
      "dtype: float64\n",
      "En minuts\n"
     ]
    }
   ],
   "source": [
    "print(\"Mitjana DepDelay:\", df[\"DepDelay\"].mean())\n",
    "print(\"Desviació estàndar DepDelay:\", df[\"DepDelay\"].std())\n",
    "print(\"Mediana DepDelay:\", df[\"DepDelay\"].median())\n",
    "print(\"Moda DepDelay:\", df[\"DepDelay\"].mode())\n",
    "print(\"En minuts\")"
   ]
  },
  {
   "cell_type": "code",
   "execution_count": 30,
   "id": "ba1e69f5",
   "metadata": {},
   "outputs": [
    {
     "name": "stdout",
     "output_type": "stream",
     "text": [
      "Mitjana Distance: 765.6861590348407\n",
      "Desviació estàndar Distance: 574.4796530725632\n",
      "Mediana Distance: 606.0\n",
      "Moda Distance: 0    337\n",
      "dtype: int64\n",
      "En milles\n"
     ]
    }
   ],
   "source": [
    "print(\"Mitjana Distance:\", df[\"Distance\"].mean())\n",
    "print(\"Desviació estàndar Distance:\", df[\"Distance\"].std())\n",
    "print(\"Mediana Distance:\", df[\"Distance\"].median())\n",
    "print(\"Moda Distance:\", df[\"Distance\"].mode())\n",
    "print(\"En milles\")"
   ]
  },
  {
   "cell_type": "code",
   "execution_count": 42,
   "id": "55f2e8e5",
   "metadata": {},
   "outputs": [
    {
     "name": "stdout",
     "output_type": "stream",
     "text": [
      "Vols cancel·lats: \n",
      " Year                     633\n",
      "Month                    633\n",
      "DayofMonth               633\n",
      "DayOfWeek                633\n",
      "DepTime                  633\n",
      "CRSDepTime               633\n",
      "ArrTime                    0\n",
      "CRSArrTime               633\n",
      "UniqueCarrier            633\n",
      "ActualElapsedTime          0\n",
      "CRSElapsedTime           633\n",
      "AirTime                    0\n",
      "ArrDelay                   0\n",
      "DepDelay                 633\n",
      "Distance                 633\n",
      "Cancelled                633\n",
      "DistanceKm               633\n",
      "AirTimeH                   0\n",
      "FlightSpeed                0\n",
      "LateLanding              633\n",
      "LateTakeOff              633\n",
      "ElapsedTimeDifference      0\n",
      "dtype: int64 \n",
      "\n",
      "Vols no cancel·lats: \n",
      " Year                     1936125\n",
      "Month                    1936125\n",
      "DayofMonth               1936125\n",
      "DayOfWeek                1936125\n",
      "DepTime                  1936125\n",
      "CRSDepTime               1936125\n",
      "ArrTime                  1929648\n",
      "CRSArrTime               1936125\n",
      "UniqueCarrier            1936125\n",
      "ActualElapsedTime        1928371\n",
      "CRSElapsedTime           1935927\n",
      "AirTime                  1928364\n",
      "ArrDelay                 1928371\n",
      "DepDelay                 1936125\n",
      "Distance                 1936125\n",
      "Cancelled                1936125\n",
      "DistanceKm               1936125\n",
      "AirTimeH                 1928364\n",
      "FlightSpeed              1928364\n",
      "LateLanding              1936125\n",
      "LateTakeOff              1936125\n",
      "ElapsedTimeDifference    1928371\n",
      "dtype: int64\n"
     ]
    }
   ],
   "source": [
    "print(\"Vols cancel·lats:\", \"\\n\", df[df[\"Cancelled\"] == 1].count(), \"\\n\")\n",
    "print(\"Vols no cancel·lats:\", \"\\n\", df[df[\"Cancelled\"] == 0].count())"
   ]
  },
  {
   "cell_type": "markdown",
   "id": "b51e5ca6",
   "metadata": {},
   "source": [
    "* Troba quantes dades faltants hi ha per columna"
   ]
  },
  {
   "cell_type": "code",
   "execution_count": 4,
   "id": "8e3693ab",
   "metadata": {},
   "outputs": [
    {
     "data": {
      "text/plain": [
       "Year                    0\n",
       "Month                   0\n",
       "DayofMonth              0\n",
       "DayOfWeek               0\n",
       "DepTime                 0\n",
       "CRSDepTime              0\n",
       "ArrTime              7110\n",
       "CRSArrTime              0\n",
       "ActualElapsedTime    8387\n",
       "CRSElapsedTime        198\n",
       "AirTime              8387\n",
       "ArrDelay             8387\n",
       "DepDelay                0\n",
       "Distance                0\n",
       "Cancelled               0\n",
       "dtype: int64"
      ]
     },
     "execution_count": 4,
     "metadata": {},
     "output_type": "execute_result"
    }
   ],
   "source": [
    "df.isna().sum()"
   ]
  },
  {
   "cell_type": "markdown",
   "id": "1d56fbbf",
   "metadata": {},
   "source": [
    "* Crea columnes noves (velocitat mitjana del vol, si ha arribat tard o no...)"
   ]
  },
  {
   "cell_type": "code",
   "execution_count": 38,
   "id": "4529e1a1",
   "metadata": {},
   "outputs": [
    {
     "name": "stdout",
     "output_type": "stream",
     "text": [
      "Velocitat mitjana de vol: 638.8318056975423 km/h\n"
     ]
    }
   ],
   "source": [
    "df[\"DistanceKm\"] = df[\"Distance\"] * 1.60934\n",
    "df[\"AirTime\"].replace(0, np.nan, inplace = True)\n",
    "df[\"AirTimeH\"] = df[\"AirTime\"] / 60\n",
    "df[\"FlightSpeed\"] = df[\"DistanceKm\"] / df[\"AirTimeH\"]\n",
    "print(\"Velocitat mitjana de vol:\", df[\"FlightSpeed\"].mean(), \"km/h\")"
   ]
  },
  {
   "cell_type": "code",
   "execution_count": 39,
   "id": "0cd20bd9",
   "metadata": {},
   "outputs": [],
   "source": [
    "df[\"LateLanding\"] = df[\"ArrDelay\"] > 0"
   ]
  },
  {
   "cell_type": "code",
   "execution_count": 40,
   "id": "a3cf3594",
   "metadata": {},
   "outputs": [],
   "source": [
    "df[\"LateTakeOff\"] = df[\"DepDelay\"] > 0"
   ]
  },
  {
   "cell_type": "code",
   "execution_count": 41,
   "id": "4ed13966",
   "metadata": {},
   "outputs": [],
   "source": [
    "df[\"ElapsedTimeDifference\"] = df[\"CRSElapsedTime\"] - df[\"ActualElapsedTime\"]"
   ]
  },
  {
   "cell_type": "code",
   "execution_count": 42,
   "id": "dd0120f9",
   "metadata": {},
   "outputs": [],
   "source": [
    "df[\"ArrivalDifference\"] = df[\"CRSArrTime\"] - df[\"ArrTime\"]"
   ]
  },
  {
   "cell_type": "code",
   "execution_count": 43,
   "id": "9606e34a",
   "metadata": {},
   "outputs": [
    {
     "name": "stdout",
     "output_type": "stream",
     "text": [
      "<class 'pandas.core.frame.DataFrame'>\n",
      "Int64Index: 1936758 entries, 0 to 7009727\n",
      "Data columns (total 24 columns):\n",
      " #   Column                 Dtype  \n",
      "---  ------                 -----  \n",
      " 0   Year                   int64  \n",
      " 1   Month                  int64  \n",
      " 2   DayofMonth             int64  \n",
      " 3   DayOfWeek              int64  \n",
      " 4   DepTime                float64\n",
      " 5   CRSDepTime             int64  \n",
      " 6   ArrTime                float64\n",
      " 7   CRSArrTime             int64  \n",
      " 8   UniqueCarrier          object \n",
      " 9   FlightNum              int64  \n",
      " 10  ActualElapsedTime      float64\n",
      " 11  CRSElapsedTime         float64\n",
      " 12  AirTime                float64\n",
      " 13  ArrDelay               float64\n",
      " 14  DepDelay               float64\n",
      " 15  Distance               int64  \n",
      " 16  Cancelled              int64  \n",
      " 17  DistanceKm             float64\n",
      " 18  AirTimeH               float64\n",
      " 19  FlightSpeed            float64\n",
      " 20  LateLanding            bool   \n",
      " 21  LateTakeOff            bool   \n",
      " 22  ElapsedTimeDifference  float64\n",
      " 23  ArrivalDifference      float64\n",
      "dtypes: bool(2), float64(12), int64(9), object(1)\n",
      "memory usage: 343.5+ MB\n"
     ]
    }
   ],
   "source": [
    "df.info()"
   ]
  },
  {
   "cell_type": "markdown",
   "id": "e57c94ce",
   "metadata": {},
   "source": [
    "* Taula de les aerolínies amb més endarreriments acumulats"
   ]
  },
  {
   "cell_type": "code",
   "execution_count": 59,
   "id": "f5bb94fd",
   "metadata": {},
   "outputs": [
    {
     "data": {
      "text/plain": [
       "WN    324717\n",
       "AA    172197\n",
       "MQ    130647\n",
       "UA    123989\n",
       "OO    121942\n",
       "DL    100923\n",
       "XE     94313\n",
       "CO     83646\n",
       "US     83262\n",
       "EV     75170\n",
       "NW     72395\n",
       "FL     65008\n",
       "YV     63289\n",
       "OH     49104\n",
       "B6     48177\n",
       "9E     46896\n",
       "AS     34179\n",
       "F9     25708\n",
       "HA      7199\n",
       "AQ       654\n",
       "Name: UniqueCarrier, dtype: int64"
      ]
     },
     "execution_count": 59,
     "metadata": {},
     "output_type": "execute_result"
    }
   ],
   "source": [
    "late = df[\"LateLanding\"] == True\n",
    "df[late][\"UniqueCarrier\"].value_counts()"
   ]
  },
  {
   "cell_type": "markdown",
   "id": "bbf301e2",
   "metadata": {},
   "source": [
    "* Quins són els vols més llargs? "
   ]
  },
  {
   "cell_type": "code",
   "execution_count": 49,
   "id": "411694fc",
   "metadata": {},
   "outputs": [
    {
     "name": "stdout",
     "output_type": "stream",
     "text": [
      "4200196      14\n",
      "6979519      14\n",
      "2353671      15\n",
      "6982535      14\n",
      "566426       15\n",
      "           ... \n",
      "4989833    6898\n",
      "151660     5610\n",
      "1637250    2009\n",
      "2547298    4988\n",
      "4392215    5572\n",
      "Name: FlightNum, Length: 1936758, dtype: int64\n"
     ]
    }
   ],
   "source": [
    "df = df.sort_values(by=[\"Distance\"], ascending = False)\n",
    "print(df.loc[:, \"FlightNum\"])"
   ]
  },
  {
   "cell_type": "markdown",
   "id": "b91edd81",
   "metadata": {},
   "source": [
    "* I els més endarrerits?"
   ]
  },
  {
   "cell_type": "code",
   "execution_count": 50,
   "id": "689cc2dc",
   "metadata": {},
   "outputs": [
    {
     "name": "stdout",
     "output_type": "stream",
     "text": [
      "3141287    7164\n",
      "4542789    1424\n",
      "569540      209\n",
      "1532432     372\n",
      "4761533    2246\n",
      "           ... \n",
      "538552       65\n",
      "535448       64\n",
      "2927797      65\n",
      "1107749      64\n",
      "541506       64\n",
      "Name: FlightNum, Length: 1936758, dtype: int64\n"
     ]
    }
   ],
   "source": [
    "df = df.sort_values(by=[\"ArrivalDifference\"], ascending = False)\n",
    "print(df.loc[:, \"FlightNum\"])"
   ]
  },
  {
   "cell_type": "markdown",
   "id": "23cf2e2d",
   "metadata": {},
   "source": [
    "* Etc. "
   ]
  },
  {
   "cell_type": "markdown",
   "id": "597778ed",
   "metadata": {},
   "source": [
    "* Relació entre endarreriment i distància recorreguda"
   ]
  },
  {
   "cell_type": "code",
   "execution_count": 55,
   "id": "63275edc",
   "metadata": {},
   "outputs": [
    {
     "data": {
      "text/plain": [
       "6     182955\n",
       "12    182945\n",
       "3     179833\n",
       "2     171311\n",
       "7     164534\n",
       "1     163801\n",
       "8     143013\n",
       "4     137941\n",
       "5     135421\n",
       "11     90855\n",
       "10     87989\n",
       "9      82817\n",
       "Name: Month, dtype: int64"
      ]
     },
     "execution_count": 55,
     "metadata": {},
     "output_type": "execute_result"
    }
   ],
   "source": [
    "#df[\"Month\"].corr(df[\"LateLanding\"])\n",
    "late = df[\"LateLanding\"] == True\n",
    "df[late][\"Month\"].value_counts()"
   ]
  },
  {
   "cell_type": "markdown",
   "id": "3bedd749",
   "metadata": {},
   "source": [
    "* Relació entre endarreriment i dia de la setmana"
   ]
  },
  {
   "cell_type": "code",
   "execution_count": 56,
   "id": "01ea98bb",
   "metadata": {},
   "outputs": [
    {
     "data": {
      "text/plain": [
       "5    291280\n",
       "1    258998\n",
       "4    258790\n",
       "7    254550\n",
       "3    233500\n",
       "2    232407\n",
       "6    193890\n",
       "Name: DayOfWeek, dtype: int64"
      ]
     },
     "execution_count": 56,
     "metadata": {},
     "output_type": "execute_result"
    }
   ],
   "source": [
    "df[late][\"DayOfWeek\"].value_counts()"
   ]
  },
  {
   "cell_type": "markdown",
   "id": "b2253e72",
   "metadata": {},
   "source": [
    "* Correlació distància i enrederiment d'arribada"
   ]
  },
  {
   "cell_type": "code",
   "execution_count": 57,
   "id": "e8dfa462",
   "metadata": {},
   "outputs": [
    {
     "data": {
      "text/plain": [
       "-0.02985259624177865"
      ]
     },
     "execution_count": 57,
     "metadata": {},
     "output_type": "execute_result"
    }
   ],
   "source": [
    "df[\"Distance\"].corr(df[\"ArrDelay\"])"
   ]
  },
  {
   "cell_type": "markdown",
   "id": "7d5578d8",
   "metadata": {},
   "source": [
    "* Correlació enrederiment de sortida i d'arribada"
   ]
  },
  {
   "cell_type": "code",
   "execution_count": 58,
   "id": "6f592ba4",
   "metadata": {},
   "outputs": [
    {
     "data": {
      "text/plain": [
       "0.9529266852026773"
      ]
     },
     "execution_count": 58,
     "metadata": {},
     "output_type": "execute_result"
    }
   ],
   "source": [
    "df[\"DepDelay\"].corr(df[\"ArrDelay\"])"
   ]
  },
  {
   "cell_type": "markdown",
   "id": "4f4caea1",
   "metadata": {},
   "source": [
    "* Correlació enrederiment de sortida i velocitat de vol"
   ]
  },
  {
   "cell_type": "code",
   "execution_count": 59,
   "id": "366ec432",
   "metadata": {},
   "outputs": [
    {
     "data": {
      "text/plain": [
       "-0.021017359921312054"
      ]
     },
     "execution_count": 59,
     "metadata": {},
     "output_type": "execute_result"
    }
   ],
   "source": [
    "df[\"DepDelay\"].corr(df[\"FlightSpeed\"])"
   ]
  },
  {
   "cell_type": "code",
   "execution_count": 65,
   "id": "7420a6b2",
   "metadata": {},
   "outputs": [],
   "source": [
    "#df.to_excel(pd.ExcelWriter(\"DelayedFlightsNet.xlsx\"))\n",
    "df.to_csv(\"DelayedFlightsNet.csv\")"
   ]
  },
  {
   "cell_type": "code",
   "execution_count": null,
   "id": "ad0e13d5",
   "metadata": {},
   "outputs": [],
   "source": []
  }
 ],
 "metadata": {
  "kernelspec": {
   "display_name": "Python 3 (ipykernel)",
   "language": "python",
   "name": "python3"
  },
  "language_info": {
   "codemirror_mode": {
    "name": "ipython",
    "version": 3
   },
   "file_extension": ".py",
   "mimetype": "text/x-python",
   "name": "python",
   "nbconvert_exporter": "python",
   "pygments_lexer": "ipython3",
   "version": "3.9.7"
  },
  "toc": {
   "base_numbering": 1,
   "nav_menu": {},
   "number_sections": true,
   "sideBar": true,
   "skip_h1_title": false,
   "title_cell": "Table of Contents",
   "title_sidebar": "Contents",
   "toc_cell": false,
   "toc_position": {},
   "toc_section_display": true,
   "toc_window_display": false
  }
 },
 "nbformat": 4,
 "nbformat_minor": 5
}
