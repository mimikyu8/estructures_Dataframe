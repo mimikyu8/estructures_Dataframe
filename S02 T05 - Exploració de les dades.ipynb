{
 "cells": [
  {
   "cell_type": "markdown",
   "id": "856a343d",
   "metadata": {},
   "source": [
    "# Exercici 1"
   ]
  },
  {
   "cell_type": "markdown",
   "id": "31b40c0f",
   "metadata": {},
   "source": [
    "Descarrega el data set Airlines Delay: Airline on-time statistics and delay causes i carrega’l a un pandas Dataframe. Explora les dades que conté, i queda’t únicament amb les columnes que consideris rellevants."
   ]
  },
  {
   "cell_type": "code",
   "execution_count": 1,
   "id": "e8dabd37",
   "metadata": {},
   "outputs": [],
   "source": [
    "import pandas as pd \n",
    "import numpy as np"
   ]
  },
  {
   "cell_type": "code",
   "execution_count": 2,
   "id": "b593ca75",
   "metadata": {},
   "outputs": [
    {
     "name": "stderr",
     "output_type": "stream",
     "text": [
      "C:\\Users\\Nuria\\anaconda3\\lib\\site-packages\\numpy\\lib\\arraysetops.py:583: FutureWarning: elementwise comparison failed; returning scalar instead, but in the future will perform elementwise comparison\n",
      "  mask |= (ar1 == a)\n"
     ]
    }
   ],
   "source": [
    "df = pd.read_csv(\"DelayedFlights.csv\", index_col = 0)"
   ]
  },
  {
   "cell_type": "code",
   "execution_count": 3,
   "id": "4ccb4e64",
   "metadata": {},
   "outputs": [
    {
     "data": {
      "text/html": [
       "<div>\n",
       "<style scoped>\n",
       "    .dataframe tbody tr th:only-of-type {\n",
       "        vertical-align: middle;\n",
       "    }\n",
       "\n",
       "    .dataframe tbody tr th {\n",
       "        vertical-align: top;\n",
       "    }\n",
       "\n",
       "    .dataframe thead th {\n",
       "        text-align: right;\n",
       "    }\n",
       "</style>\n",
       "<table border=\"1\" class=\"dataframe\">\n",
       "  <thead>\n",
       "    <tr style=\"text-align: right;\">\n",
       "      <th></th>\n",
       "      <th>Year</th>\n",
       "      <th>Month</th>\n",
       "      <th>DayofMonth</th>\n",
       "      <th>DayOfWeek</th>\n",
       "      <th>DepTime</th>\n",
       "      <th>CRSDepTime</th>\n",
       "      <th>ArrTime</th>\n",
       "      <th>CRSArrTime</th>\n",
       "      <th>UniqueCarrier</th>\n",
       "      <th>FlightNum</th>\n",
       "      <th>...</th>\n",
       "      <th>TaxiIn</th>\n",
       "      <th>TaxiOut</th>\n",
       "      <th>Cancelled</th>\n",
       "      <th>CancellationCode</th>\n",
       "      <th>Diverted</th>\n",
       "      <th>CarrierDelay</th>\n",
       "      <th>WeatherDelay</th>\n",
       "      <th>NASDelay</th>\n",
       "      <th>SecurityDelay</th>\n",
       "      <th>LateAircraftDelay</th>\n",
       "    </tr>\n",
       "  </thead>\n",
       "  <tbody>\n",
       "    <tr>\n",
       "      <th>0</th>\n",
       "      <td>2008</td>\n",
       "      <td>1</td>\n",
       "      <td>3</td>\n",
       "      <td>4</td>\n",
       "      <td>2003.0</td>\n",
       "      <td>1955</td>\n",
       "      <td>2211.0</td>\n",
       "      <td>2225</td>\n",
       "      <td>WN</td>\n",
       "      <td>335</td>\n",
       "      <td>...</td>\n",
       "      <td>4.0</td>\n",
       "      <td>8.0</td>\n",
       "      <td>0</td>\n",
       "      <td>N</td>\n",
       "      <td>0</td>\n",
       "      <td>NaN</td>\n",
       "      <td>NaN</td>\n",
       "      <td>NaN</td>\n",
       "      <td>NaN</td>\n",
       "      <td>NaN</td>\n",
       "    </tr>\n",
       "    <tr>\n",
       "      <th>1</th>\n",
       "      <td>2008</td>\n",
       "      <td>1</td>\n",
       "      <td>3</td>\n",
       "      <td>4</td>\n",
       "      <td>754.0</td>\n",
       "      <td>735</td>\n",
       "      <td>1002.0</td>\n",
       "      <td>1000</td>\n",
       "      <td>WN</td>\n",
       "      <td>3231</td>\n",
       "      <td>...</td>\n",
       "      <td>5.0</td>\n",
       "      <td>10.0</td>\n",
       "      <td>0</td>\n",
       "      <td>N</td>\n",
       "      <td>0</td>\n",
       "      <td>NaN</td>\n",
       "      <td>NaN</td>\n",
       "      <td>NaN</td>\n",
       "      <td>NaN</td>\n",
       "      <td>NaN</td>\n",
       "    </tr>\n",
       "    <tr>\n",
       "      <th>2</th>\n",
       "      <td>2008</td>\n",
       "      <td>1</td>\n",
       "      <td>3</td>\n",
       "      <td>4</td>\n",
       "      <td>628.0</td>\n",
       "      <td>620</td>\n",
       "      <td>804.0</td>\n",
       "      <td>750</td>\n",
       "      <td>WN</td>\n",
       "      <td>448</td>\n",
       "      <td>...</td>\n",
       "      <td>3.0</td>\n",
       "      <td>17.0</td>\n",
       "      <td>0</td>\n",
       "      <td>N</td>\n",
       "      <td>0</td>\n",
       "      <td>NaN</td>\n",
       "      <td>NaN</td>\n",
       "      <td>NaN</td>\n",
       "      <td>NaN</td>\n",
       "      <td>NaN</td>\n",
       "    </tr>\n",
       "    <tr>\n",
       "      <th>4</th>\n",
       "      <td>2008</td>\n",
       "      <td>1</td>\n",
       "      <td>3</td>\n",
       "      <td>4</td>\n",
       "      <td>1829.0</td>\n",
       "      <td>1755</td>\n",
       "      <td>1959.0</td>\n",
       "      <td>1925</td>\n",
       "      <td>WN</td>\n",
       "      <td>3920</td>\n",
       "      <td>...</td>\n",
       "      <td>3.0</td>\n",
       "      <td>10.0</td>\n",
       "      <td>0</td>\n",
       "      <td>N</td>\n",
       "      <td>0</td>\n",
       "      <td>2.0</td>\n",
       "      <td>0.0</td>\n",
       "      <td>0.0</td>\n",
       "      <td>0.0</td>\n",
       "      <td>32.0</td>\n",
       "    </tr>\n",
       "    <tr>\n",
       "      <th>5</th>\n",
       "      <td>2008</td>\n",
       "      <td>1</td>\n",
       "      <td>3</td>\n",
       "      <td>4</td>\n",
       "      <td>1940.0</td>\n",
       "      <td>1915</td>\n",
       "      <td>2121.0</td>\n",
       "      <td>2110</td>\n",
       "      <td>WN</td>\n",
       "      <td>378</td>\n",
       "      <td>...</td>\n",
       "      <td>4.0</td>\n",
       "      <td>10.0</td>\n",
       "      <td>0</td>\n",
       "      <td>N</td>\n",
       "      <td>0</td>\n",
       "      <td>NaN</td>\n",
       "      <td>NaN</td>\n",
       "      <td>NaN</td>\n",
       "      <td>NaN</td>\n",
       "      <td>NaN</td>\n",
       "    </tr>\n",
       "    <tr>\n",
       "      <th>6</th>\n",
       "      <td>2008</td>\n",
       "      <td>1</td>\n",
       "      <td>3</td>\n",
       "      <td>4</td>\n",
       "      <td>1937.0</td>\n",
       "      <td>1830</td>\n",
       "      <td>2037.0</td>\n",
       "      <td>1940</td>\n",
       "      <td>WN</td>\n",
       "      <td>509</td>\n",
       "      <td>...</td>\n",
       "      <td>3.0</td>\n",
       "      <td>7.0</td>\n",
       "      <td>0</td>\n",
       "      <td>N</td>\n",
       "      <td>0</td>\n",
       "      <td>10.0</td>\n",
       "      <td>0.0</td>\n",
       "      <td>0.0</td>\n",
       "      <td>0.0</td>\n",
       "      <td>47.0</td>\n",
       "    </tr>\n",
       "    <tr>\n",
       "      <th>10</th>\n",
       "      <td>2008</td>\n",
       "      <td>1</td>\n",
       "      <td>3</td>\n",
       "      <td>4</td>\n",
       "      <td>706.0</td>\n",
       "      <td>700</td>\n",
       "      <td>916.0</td>\n",
       "      <td>915</td>\n",
       "      <td>WN</td>\n",
       "      <td>100</td>\n",
       "      <td>...</td>\n",
       "      <td>5.0</td>\n",
       "      <td>19.0</td>\n",
       "      <td>0</td>\n",
       "      <td>N</td>\n",
       "      <td>0</td>\n",
       "      <td>NaN</td>\n",
       "      <td>NaN</td>\n",
       "      <td>NaN</td>\n",
       "      <td>NaN</td>\n",
       "      <td>NaN</td>\n",
       "    </tr>\n",
       "    <tr>\n",
       "      <th>11</th>\n",
       "      <td>2008</td>\n",
       "      <td>1</td>\n",
       "      <td>3</td>\n",
       "      <td>4</td>\n",
       "      <td>1644.0</td>\n",
       "      <td>1510</td>\n",
       "      <td>1845.0</td>\n",
       "      <td>1725</td>\n",
       "      <td>WN</td>\n",
       "      <td>1333</td>\n",
       "      <td>...</td>\n",
       "      <td>6.0</td>\n",
       "      <td>8.0</td>\n",
       "      <td>0</td>\n",
       "      <td>N</td>\n",
       "      <td>0</td>\n",
       "      <td>8.0</td>\n",
       "      <td>0.0</td>\n",
       "      <td>0.0</td>\n",
       "      <td>0.0</td>\n",
       "      <td>72.0</td>\n",
       "    </tr>\n",
       "    <tr>\n",
       "      <th>15</th>\n",
       "      <td>2008</td>\n",
       "      <td>1</td>\n",
       "      <td>3</td>\n",
       "      <td>4</td>\n",
       "      <td>1029.0</td>\n",
       "      <td>1020</td>\n",
       "      <td>1021.0</td>\n",
       "      <td>1010</td>\n",
       "      <td>WN</td>\n",
       "      <td>2272</td>\n",
       "      <td>...</td>\n",
       "      <td>6.0</td>\n",
       "      <td>9.0</td>\n",
       "      <td>0</td>\n",
       "      <td>N</td>\n",
       "      <td>0</td>\n",
       "      <td>NaN</td>\n",
       "      <td>NaN</td>\n",
       "      <td>NaN</td>\n",
       "      <td>NaN</td>\n",
       "      <td>NaN</td>\n",
       "    </tr>\n",
       "    <tr>\n",
       "      <th>16</th>\n",
       "      <td>2008</td>\n",
       "      <td>1</td>\n",
       "      <td>3</td>\n",
       "      <td>4</td>\n",
       "      <td>1452.0</td>\n",
       "      <td>1425</td>\n",
       "      <td>1640.0</td>\n",
       "      <td>1625</td>\n",
       "      <td>WN</td>\n",
       "      <td>675</td>\n",
       "      <td>...</td>\n",
       "      <td>7.0</td>\n",
       "      <td>8.0</td>\n",
       "      <td>0</td>\n",
       "      <td>N</td>\n",
       "      <td>0</td>\n",
       "      <td>3.0</td>\n",
       "      <td>0.0</td>\n",
       "      <td>0.0</td>\n",
       "      <td>0.0</td>\n",
       "      <td>12.0</td>\n",
       "    </tr>\n",
       "  </tbody>\n",
       "</table>\n",
       "<p>10 rows × 29 columns</p>\n",
       "</div>"
      ],
      "text/plain": [
       "    Year  Month  DayofMonth  DayOfWeek  DepTime  CRSDepTime  ArrTime  \\\n",
       "0   2008      1           3          4   2003.0        1955   2211.0   \n",
       "1   2008      1           3          4    754.0         735   1002.0   \n",
       "2   2008      1           3          4    628.0         620    804.0   \n",
       "4   2008      1           3          4   1829.0        1755   1959.0   \n",
       "5   2008      1           3          4   1940.0        1915   2121.0   \n",
       "6   2008      1           3          4   1937.0        1830   2037.0   \n",
       "10  2008      1           3          4    706.0         700    916.0   \n",
       "11  2008      1           3          4   1644.0        1510   1845.0   \n",
       "15  2008      1           3          4   1029.0        1020   1021.0   \n",
       "16  2008      1           3          4   1452.0        1425   1640.0   \n",
       "\n",
       "    CRSArrTime UniqueCarrier  FlightNum  ... TaxiIn  TaxiOut  Cancelled  \\\n",
       "0         2225            WN        335  ...    4.0      8.0          0   \n",
       "1         1000            WN       3231  ...    5.0     10.0          0   \n",
       "2          750            WN        448  ...    3.0     17.0          0   \n",
       "4         1925            WN       3920  ...    3.0     10.0          0   \n",
       "5         2110            WN        378  ...    4.0     10.0          0   \n",
       "6         1940            WN        509  ...    3.0      7.0          0   \n",
       "10         915            WN        100  ...    5.0     19.0          0   \n",
       "11        1725            WN       1333  ...    6.0      8.0          0   \n",
       "15        1010            WN       2272  ...    6.0      9.0          0   \n",
       "16        1625            WN        675  ...    7.0      8.0          0   \n",
       "\n",
       "    CancellationCode  Diverted  CarrierDelay WeatherDelay NASDelay  \\\n",
       "0                  N         0           NaN          NaN      NaN   \n",
       "1                  N         0           NaN          NaN      NaN   \n",
       "2                  N         0           NaN          NaN      NaN   \n",
       "4                  N         0           2.0          0.0      0.0   \n",
       "5                  N         0           NaN          NaN      NaN   \n",
       "6                  N         0          10.0          0.0      0.0   \n",
       "10                 N         0           NaN          NaN      NaN   \n",
       "11                 N         0           8.0          0.0      0.0   \n",
       "15                 N         0           NaN          NaN      NaN   \n",
       "16                 N         0           3.0          0.0      0.0   \n",
       "\n",
       "    SecurityDelay  LateAircraftDelay  \n",
       "0             NaN                NaN  \n",
       "1             NaN                NaN  \n",
       "2             NaN                NaN  \n",
       "4             0.0               32.0  \n",
       "5             NaN                NaN  \n",
       "6             0.0               47.0  \n",
       "10            NaN                NaN  \n",
       "11            0.0               72.0  \n",
       "15            NaN                NaN  \n",
       "16            0.0               12.0  \n",
       "\n",
       "[10 rows x 29 columns]"
      ]
     },
     "execution_count": 3,
     "metadata": {},
     "output_type": "execute_result"
    }
   ],
   "source": [
    "df.head(10)"
   ]
  },
  {
   "cell_type": "code",
   "execution_count": 4,
   "id": "7b1a0c83",
   "metadata": {},
   "outputs": [
    {
     "name": "stdout",
     "output_type": "stream",
     "text": [
      "<class 'pandas.core.frame.DataFrame'>\n",
      "Int64Index: 1936758 entries, 0 to 7009727\n",
      "Data columns (total 29 columns):\n",
      " #   Column             Dtype  \n",
      "---  ------             -----  \n",
      " 0   Year               int64  \n",
      " 1   Month              int64  \n",
      " 2   DayofMonth         int64  \n",
      " 3   DayOfWeek          int64  \n",
      " 4   DepTime            float64\n",
      " 5   CRSDepTime         int64  \n",
      " 6   ArrTime            float64\n",
      " 7   CRSArrTime         int64  \n",
      " 8   UniqueCarrier      object \n",
      " 9   FlightNum          int64  \n",
      " 10  TailNum            object \n",
      " 11  ActualElapsedTime  float64\n",
      " 12  CRSElapsedTime     float64\n",
      " 13  AirTime            float64\n",
      " 14  ArrDelay           float64\n",
      " 15  DepDelay           float64\n",
      " 16  Origin             object \n",
      " 17  Dest               object \n",
      " 18  Distance           int64  \n",
      " 19  TaxiIn             float64\n",
      " 20  TaxiOut            float64\n",
      " 21  Cancelled          int64  \n",
      " 22  CancellationCode   object \n",
      " 23  Diverted           int64  \n",
      " 24  CarrierDelay       float64\n",
      " 25  WeatherDelay       float64\n",
      " 26  NASDelay           float64\n",
      " 27  SecurityDelay      float64\n",
      " 28  LateAircraftDelay  float64\n",
      "dtypes: float64(14), int64(10), object(5)\n",
      "memory usage: 443.3+ MB\n"
     ]
    }
   ],
   "source": [
    "df.info()"
   ]
  },
  {
   "cell_type": "markdown",
   "id": "86b97919",
   "metadata": {},
   "source": [
    "Al dataset no hi ha informació sobre què signifiquen els noms de les columnes, però hi ha un link que redirigeix aquí: [https://dataverse.harvard.edu/dataset.xhtml?persistentId=doi:10.7910/DVN/HG7NV7]. A la descripció hi ha una explicació de què representa cada columna."
   ]
  },
  {
   "cell_type": "code",
   "execution_count": 5,
   "id": "396933ed",
   "metadata": {},
   "outputs": [],
   "source": [
    "df = df.drop(columns = [\"CancellationCode\", \"Origin\", \"Dest\", \"Year\", \"Cancelled\"])\n",
    "#Year eliminat perque es sempre 2008\n",
    "#CancellationCode i Cancelled perquè estem analitzant només els enraderiments\n",
    "#Origin i Dest no son necessaris per l'analisis"
   ]
  },
  {
   "cell_type": "code",
   "execution_count": 6,
   "id": "2c2c4905",
   "metadata": {},
   "outputs": [
    {
     "data": {
      "text/html": [
       "<div>\n",
       "<style scoped>\n",
       "    .dataframe tbody tr th:only-of-type {\n",
       "        vertical-align: middle;\n",
       "    }\n",
       "\n",
       "    .dataframe tbody tr th {\n",
       "        vertical-align: top;\n",
       "    }\n",
       "\n",
       "    .dataframe thead th {\n",
       "        text-align: right;\n",
       "    }\n",
       "</style>\n",
       "<table border=\"1\" class=\"dataframe\">\n",
       "  <thead>\n",
       "    <tr style=\"text-align: right;\">\n",
       "      <th></th>\n",
       "      <th>Month</th>\n",
       "      <th>DayofMonth</th>\n",
       "      <th>DayOfWeek</th>\n",
       "      <th>DepTime</th>\n",
       "      <th>CRSDepTime</th>\n",
       "      <th>ArrTime</th>\n",
       "      <th>CRSArrTime</th>\n",
       "      <th>UniqueCarrier</th>\n",
       "      <th>FlightNum</th>\n",
       "      <th>TailNum</th>\n",
       "      <th>...</th>\n",
       "      <th>DepDelay</th>\n",
       "      <th>Distance</th>\n",
       "      <th>TaxiIn</th>\n",
       "      <th>TaxiOut</th>\n",
       "      <th>Diverted</th>\n",
       "      <th>CarrierDelay</th>\n",
       "      <th>WeatherDelay</th>\n",
       "      <th>NASDelay</th>\n",
       "      <th>SecurityDelay</th>\n",
       "      <th>LateAircraftDelay</th>\n",
       "    </tr>\n",
       "  </thead>\n",
       "  <tbody>\n",
       "    <tr>\n",
       "      <th>0</th>\n",
       "      <td>1</td>\n",
       "      <td>3</td>\n",
       "      <td>4</td>\n",
       "      <td>2003.0</td>\n",
       "      <td>1955</td>\n",
       "      <td>2211.0</td>\n",
       "      <td>2225</td>\n",
       "      <td>WN</td>\n",
       "      <td>335</td>\n",
       "      <td>N712SW</td>\n",
       "      <td>...</td>\n",
       "      <td>8.0</td>\n",
       "      <td>810</td>\n",
       "      <td>4.0</td>\n",
       "      <td>8.0</td>\n",
       "      <td>0</td>\n",
       "      <td>NaN</td>\n",
       "      <td>NaN</td>\n",
       "      <td>NaN</td>\n",
       "      <td>NaN</td>\n",
       "      <td>NaN</td>\n",
       "    </tr>\n",
       "    <tr>\n",
       "      <th>1</th>\n",
       "      <td>1</td>\n",
       "      <td>3</td>\n",
       "      <td>4</td>\n",
       "      <td>754.0</td>\n",
       "      <td>735</td>\n",
       "      <td>1002.0</td>\n",
       "      <td>1000</td>\n",
       "      <td>WN</td>\n",
       "      <td>3231</td>\n",
       "      <td>N772SW</td>\n",
       "      <td>...</td>\n",
       "      <td>19.0</td>\n",
       "      <td>810</td>\n",
       "      <td>5.0</td>\n",
       "      <td>10.0</td>\n",
       "      <td>0</td>\n",
       "      <td>NaN</td>\n",
       "      <td>NaN</td>\n",
       "      <td>NaN</td>\n",
       "      <td>NaN</td>\n",
       "      <td>NaN</td>\n",
       "    </tr>\n",
       "    <tr>\n",
       "      <th>2</th>\n",
       "      <td>1</td>\n",
       "      <td>3</td>\n",
       "      <td>4</td>\n",
       "      <td>628.0</td>\n",
       "      <td>620</td>\n",
       "      <td>804.0</td>\n",
       "      <td>750</td>\n",
       "      <td>WN</td>\n",
       "      <td>448</td>\n",
       "      <td>N428WN</td>\n",
       "      <td>...</td>\n",
       "      <td>8.0</td>\n",
       "      <td>515</td>\n",
       "      <td>3.0</td>\n",
       "      <td>17.0</td>\n",
       "      <td>0</td>\n",
       "      <td>NaN</td>\n",
       "      <td>NaN</td>\n",
       "      <td>NaN</td>\n",
       "      <td>NaN</td>\n",
       "      <td>NaN</td>\n",
       "    </tr>\n",
       "    <tr>\n",
       "      <th>4</th>\n",
       "      <td>1</td>\n",
       "      <td>3</td>\n",
       "      <td>4</td>\n",
       "      <td>1829.0</td>\n",
       "      <td>1755</td>\n",
       "      <td>1959.0</td>\n",
       "      <td>1925</td>\n",
       "      <td>WN</td>\n",
       "      <td>3920</td>\n",
       "      <td>N464WN</td>\n",
       "      <td>...</td>\n",
       "      <td>34.0</td>\n",
       "      <td>515</td>\n",
       "      <td>3.0</td>\n",
       "      <td>10.0</td>\n",
       "      <td>0</td>\n",
       "      <td>2.0</td>\n",
       "      <td>0.0</td>\n",
       "      <td>0.0</td>\n",
       "      <td>0.0</td>\n",
       "      <td>32.0</td>\n",
       "    </tr>\n",
       "    <tr>\n",
       "      <th>5</th>\n",
       "      <td>1</td>\n",
       "      <td>3</td>\n",
       "      <td>4</td>\n",
       "      <td>1940.0</td>\n",
       "      <td>1915</td>\n",
       "      <td>2121.0</td>\n",
       "      <td>2110</td>\n",
       "      <td>WN</td>\n",
       "      <td>378</td>\n",
       "      <td>N726SW</td>\n",
       "      <td>...</td>\n",
       "      <td>25.0</td>\n",
       "      <td>688</td>\n",
       "      <td>4.0</td>\n",
       "      <td>10.0</td>\n",
       "      <td>0</td>\n",
       "      <td>NaN</td>\n",
       "      <td>NaN</td>\n",
       "      <td>NaN</td>\n",
       "      <td>NaN</td>\n",
       "      <td>NaN</td>\n",
       "    </tr>\n",
       "  </tbody>\n",
       "</table>\n",
       "<p>5 rows × 24 columns</p>\n",
       "</div>"
      ],
      "text/plain": [
       "   Month  DayofMonth  DayOfWeek  DepTime  CRSDepTime  ArrTime  CRSArrTime  \\\n",
       "0      1           3          4   2003.0        1955   2211.0        2225   \n",
       "1      1           3          4    754.0         735   1002.0        1000   \n",
       "2      1           3          4    628.0         620    804.0         750   \n",
       "4      1           3          4   1829.0        1755   1959.0        1925   \n",
       "5      1           3          4   1940.0        1915   2121.0        2110   \n",
       "\n",
       "  UniqueCarrier  FlightNum TailNum  ...  DepDelay  Distance  TaxiIn  TaxiOut  \\\n",
       "0            WN        335  N712SW  ...       8.0       810     4.0      8.0   \n",
       "1            WN       3231  N772SW  ...      19.0       810     5.0     10.0   \n",
       "2            WN        448  N428WN  ...       8.0       515     3.0     17.0   \n",
       "4            WN       3920  N464WN  ...      34.0       515     3.0     10.0   \n",
       "5            WN        378  N726SW  ...      25.0       688     4.0     10.0   \n",
       "\n",
       "   Diverted  CarrierDelay  WeatherDelay  NASDelay  SecurityDelay  \\\n",
       "0         0           NaN           NaN       NaN            NaN   \n",
       "1         0           NaN           NaN       NaN            NaN   \n",
       "2         0           NaN           NaN       NaN            NaN   \n",
       "4         0           2.0           0.0       0.0            0.0   \n",
       "5         0           NaN           NaN       NaN            NaN   \n",
       "\n",
       "   LateAircraftDelay  \n",
       "0                NaN  \n",
       "1                NaN  \n",
       "2                NaN  \n",
       "4               32.0  \n",
       "5                NaN  \n",
       "\n",
       "[5 rows x 24 columns]"
      ]
     },
     "execution_count": 6,
     "metadata": {},
     "output_type": "execute_result"
    }
   ],
   "source": [
    "df.head()"
   ]
  },
  {
   "cell_type": "code",
   "execution_count": 7,
   "id": "c3bfade8",
   "metadata": {},
   "outputs": [
    {
     "name": "stdout",
     "output_type": "stream",
     "text": [
      "<class 'pandas.core.frame.DataFrame'>\n",
      "Int64Index: 1936758 entries, 0 to 7009727\n",
      "Data columns (total 24 columns):\n",
      " #   Column             Dtype  \n",
      "---  ------             -----  \n",
      " 0   Month              int64  \n",
      " 1   DayofMonth         int64  \n",
      " 2   DayOfWeek          int64  \n",
      " 3   DepTime            float64\n",
      " 4   CRSDepTime         int64  \n",
      " 5   ArrTime            float64\n",
      " 6   CRSArrTime         int64  \n",
      " 7   UniqueCarrier      object \n",
      " 8   FlightNum          int64  \n",
      " 9   TailNum            object \n",
      " 10  ActualElapsedTime  float64\n",
      " 11  CRSElapsedTime     float64\n",
      " 12  AirTime            float64\n",
      " 13  ArrDelay           float64\n",
      " 14  DepDelay           float64\n",
      " 15  Distance           int64  \n",
      " 16  TaxiIn             float64\n",
      " 17  TaxiOut            float64\n",
      " 18  Diverted           int64  \n",
      " 19  CarrierDelay       float64\n",
      " 20  WeatherDelay       float64\n",
      " 21  NASDelay           float64\n",
      " 22  SecurityDelay      float64\n",
      " 23  LateAircraftDelay  float64\n",
      "dtypes: float64(14), int64(8), object(2)\n",
      "memory usage: 369.4+ MB\n"
     ]
    }
   ],
   "source": [
    "df.info()"
   ]
  },
  {
   "cell_type": "markdown",
   "id": "21edc0f9",
   "metadata": {},
   "source": [
    "# Exercici 2"
   ]
  },
  {
   "cell_type": "markdown",
   "id": "4883b8d3",
   "metadata": {},
   "source": [
    "Fes un informe complet del data set:"
   ]
  },
  {
   "cell_type": "markdown",
   "id": "5fa7280a",
   "metadata": {},
   "source": [
    "* Resumeix estadísticament les columnes d’interès"
   ]
  },
  {
   "cell_type": "code",
   "execution_count": 8,
   "id": "24333025",
   "metadata": {},
   "outputs": [
    {
     "name": "stdout",
     "output_type": "stream",
     "text": [
      "Mitjana ActualElapsedTime: 133.30586334268665\n",
      "Desviació estàndar ActualElapsedTime: 72.06006897518652\n",
      "Mediana ActualElapsedTime: 116.0\n",
      "Moda ActualElapsedTime: 0    80.0\n",
      "dtype: float64\n",
      "En minuts\n"
     ]
    }
   ],
   "source": [
    "print(\"Mitjana ActualElapsedTime:\", df[\"ActualElapsedTime\"].mean())\n",
    "print(\"Desviació estàndar ActualElapsedTime:\", df[\"ActualElapsedTime\"].std())\n",
    "print(\"Mediana ActualElapsedTime:\", df[\"ActualElapsedTime\"].median())\n",
    "print(\"Moda ActualElapsedTime:\", df[\"ActualElapsedTime\"].mode())\n",
    "print(\"En minuts\")"
   ]
  },
  {
   "cell_type": "code",
   "execution_count": 9,
   "id": "aa64cc5d",
   "metadata": {},
   "outputs": [
    {
     "name": "stdout",
     "output_type": "stream",
     "text": [
      "Mitjana CRSElapsedTime: 134.3027440409799\n",
      "Desviació estàndar CRSElapsedTime: 71.34143888168691\n",
      "Mediana CRSElapsedTime: 116.0\n",
      "Moda CRSElapsedTime: 0    75.0\n",
      "dtype: float64\n",
      "En minuts\n"
     ]
    }
   ],
   "source": [
    "print(\"Mitjana CRSElapsedTime:\", df[\"CRSElapsedTime\"].mean())\n",
    "print(\"Desviació estàndar CRSElapsedTime:\", df[\"CRSElapsedTime\"].std())\n",
    "print(\"Mediana CRSElapsedTime:\", df[\"CRSElapsedTime\"].median())\n",
    "print(\"Moda CRSElapsedTime:\", df[\"CRSElapsedTime\"].mode())\n",
    "print(\"En minuts\")"
   ]
  },
  {
   "cell_type": "code",
   "execution_count": 10,
   "id": "e80619f2",
   "metadata": {},
   "outputs": [
    {
     "name": "stdout",
     "output_type": "stream",
     "text": [
      "Mitjana AirTime: 108.27714739539228\n",
      "Desviació estàndar AirTime: 68.6426101386457\n",
      "Mediana AirTime: 90.0\n",
      "Moda AirTime: 0    45.0\n",
      "dtype: float64\n",
      "En minuts\n"
     ]
    }
   ],
   "source": [
    "print(\"Mitjana AirTime:\", df[\"AirTime\"].mean())\n",
    "print(\"Desviació estàndar AirTime:\", df[\"AirTime\"].std())\n",
    "print(\"Mediana AirTime:\", df[\"AirTime\"].median())\n",
    "print(\"Moda AirTime:\", df[\"AirTime\"].mode())\n",
    "print(\"En minuts\")"
   ]
  },
  {
   "cell_type": "code",
   "execution_count": 11,
   "id": "8274a392",
   "metadata": {},
   "outputs": [
    {
     "name": "stdout",
     "output_type": "stream",
     "text": [
      "Mitjana ArrDelay: 42.19988477321014\n",
      "Desviació estàndar ArrDelay: 56.78471513743561\n",
      "Mediana ArrDelay: 24.0\n",
      "Moda ArrDelay: 0    10.0\n",
      "dtype: float64\n",
      "En minuts\n"
     ]
    }
   ],
   "source": [
    "print(\"Mitjana ArrDelay:\", df[\"ArrDelay\"].mean())\n",
    "print(\"Desviació estàndar ArrDelay:\", df[\"ArrDelay\"].std())\n",
    "print(\"Mediana ArrDelay:\", df[\"ArrDelay\"].median())\n",
    "print(\"Moda ArrDelay:\", df[\"ArrDelay\"].mode())\n",
    "print(\"En minuts\")"
   ]
  },
  {
   "cell_type": "code",
   "execution_count": 12,
   "id": "e911c146",
   "metadata": {},
   "outputs": [
    {
     "name": "stdout",
     "output_type": "stream",
     "text": [
      "Mitjana DepDelay: 43.185176464999756\n",
      "Desviació estàndar DepDelay: 53.40250234363254\n",
      "Mediana DepDelay: 24.0\n",
      "Moda DepDelay: 0    6.0\n",
      "dtype: float64\n",
      "En minuts\n"
     ]
    }
   ],
   "source": [
    "print(\"Mitjana DepDelay:\", df[\"DepDelay\"].mean())\n",
    "print(\"Desviació estàndar DepDelay:\", df[\"DepDelay\"].std())\n",
    "print(\"Mediana DepDelay:\", df[\"DepDelay\"].median())\n",
    "print(\"Moda DepDelay:\", df[\"DepDelay\"].mode())\n",
    "print(\"En minuts\")"
   ]
  },
  {
   "cell_type": "code",
   "execution_count": 13,
   "id": "ba1e69f5",
   "metadata": {},
   "outputs": [
    {
     "name": "stdout",
     "output_type": "stream",
     "text": [
      "Mitjana Distance: 765.6861590348407\n",
      "Desviació estàndar Distance: 574.4796530725632\n",
      "Mediana Distance: 606.0\n",
      "Moda Distance: 0    337\n",
      "dtype: int64\n",
      "En milles\n"
     ]
    }
   ],
   "source": [
    "print(\"Mitjana Distance:\", df[\"Distance\"].mean())\n",
    "print(\"Desviació estàndar Distance:\", df[\"Distance\"].std())\n",
    "print(\"Mediana Distance:\", df[\"Distance\"].median())\n",
    "print(\"Moda Distance:\", df[\"Distance\"].mode())\n",
    "print(\"En milles\")"
   ]
  },
  {
   "cell_type": "markdown",
   "id": "b51e5ca6",
   "metadata": {},
   "source": [
    "* Troba quantes dades faltants hi ha per columna"
   ]
  },
  {
   "cell_type": "code",
   "execution_count": 15,
   "id": "8e3693ab",
   "metadata": {},
   "outputs": [
    {
     "data": {
      "text/plain": [
       "Month                     0\n",
       "DayofMonth                0\n",
       "DayOfWeek                 0\n",
       "DepTime                   0\n",
       "CRSDepTime                0\n",
       "ArrTime                7110\n",
       "CRSArrTime                0\n",
       "UniqueCarrier             0\n",
       "FlightNum                 0\n",
       "TailNum                   5\n",
       "ActualElapsedTime      8387\n",
       "CRSElapsedTime          198\n",
       "AirTime                8387\n",
       "ArrDelay               8387\n",
       "DepDelay                  0\n",
       "Distance                  0\n",
       "TaxiIn                 7110\n",
       "TaxiOut                 455\n",
       "Diverted                  0\n",
       "CarrierDelay         689270\n",
       "WeatherDelay         689270\n",
       "NASDelay             689270\n",
       "SecurityDelay        689270\n",
       "LateAircraftDelay    689270\n",
       "dtype: int64"
      ]
     },
     "execution_count": 15,
     "metadata": {},
     "output_type": "execute_result"
    }
   ],
   "source": [
    "df.isna().sum()"
   ]
  },
  {
   "cell_type": "markdown",
   "id": "1d56fbbf",
   "metadata": {},
   "source": [
    "* Crea columnes noves (velocitat mitjana del vol, si ha arribat tard o no...)"
   ]
  },
  {
   "cell_type": "code",
   "execution_count": 17,
   "id": "4529e1a1",
   "metadata": {},
   "outputs": [
    {
     "name": "stdout",
     "output_type": "stream",
     "text": [
      "Velocitat mitjana de vol: 638.8318056975423 km/h\n"
     ]
    }
   ],
   "source": [
    "df[\"DistanceKm\"] = df[\"Distance\"] * 1.60934    #convertir de milles a km\n",
    "df[\"AirTime\"].replace(0, np.nan, inplace = True)\n",
    "df[\"AirTimeH\"] = df[\"AirTime\"] / 60    #convertir de minuts a hores\n",
    "df[\"FlightSpeed\"] = df[\"DistanceKm\"] / df[\"AirTimeH\"]    #crear columna de velocitat de vol\n",
    "print(\"Velocitat mitjana de vol:\", df[\"FlightSpeed\"].mean(), \"km/h\")"
   ]
  },
  {
   "cell_type": "code",
   "execution_count": 18,
   "id": "0cd20bd9",
   "metadata": {},
   "outputs": [],
   "source": [
    "df[\"LateLanding\"] = df[\"ArrDelay\"] > 0\n",
    "#si ha arribat tard o no"
   ]
  },
  {
   "cell_type": "code",
   "execution_count": 19,
   "id": "a3cf3594",
   "metadata": {},
   "outputs": [],
   "source": [
    "df[\"LateTakeOff\"] = df[\"DepDelay\"] > 0\n",
    "#si ha sortit tard o no"
   ]
  },
  {
   "cell_type": "code",
   "execution_count": 20,
   "id": "4ed13966",
   "metadata": {},
   "outputs": [],
   "source": [
    "df[\"ElapsedTimeDifference\"] = df[\"CRSElapsedTime\"] - df[\"ActualElapsedTime\"]\n",
    "#diferencia entre el temps transcorregut esperat i el real en minuts. Inclou el temps a terra"
   ]
  },
  {
   "cell_type": "code",
   "execution_count": 21,
   "id": "dd0120f9",
   "metadata": {},
   "outputs": [],
   "source": [
    "df[\"ArrivalDifference\"] = df[\"CRSArrTime\"] - df[\"ArrTime\"]\n",
    "#diferencia entre el temps d'arribada esperat i el real"
   ]
  },
  {
   "cell_type": "code",
   "execution_count": 22,
   "id": "9606e34a",
   "metadata": {},
   "outputs": [
    {
     "name": "stdout",
     "output_type": "stream",
     "text": [
      "<class 'pandas.core.frame.DataFrame'>\n",
      "Int64Index: 1936758 entries, 0 to 7009727\n",
      "Data columns (total 31 columns):\n",
      " #   Column                 Dtype  \n",
      "---  ------                 -----  \n",
      " 0   Month                  int64  \n",
      " 1   DayofMonth             int64  \n",
      " 2   DayOfWeek              int64  \n",
      " 3   DepTime                float64\n",
      " 4   CRSDepTime             int64  \n",
      " 5   ArrTime                float64\n",
      " 6   CRSArrTime             int64  \n",
      " 7   UniqueCarrier          object \n",
      " 8   FlightNum              int64  \n",
      " 9   TailNum                object \n",
      " 10  ActualElapsedTime      float64\n",
      " 11  CRSElapsedTime         float64\n",
      " 12  AirTime                float64\n",
      " 13  ArrDelay               float64\n",
      " 14  DepDelay               float64\n",
      " 15  Distance               int64  \n",
      " 16  TaxiIn                 float64\n",
      " 17  TaxiOut                float64\n",
      " 18  Diverted               int64  \n",
      " 19  CarrierDelay           float64\n",
      " 20  WeatherDelay           float64\n",
      " 21  NASDelay               float64\n",
      " 22  SecurityDelay          float64\n",
      " 23  LateAircraftDelay      float64\n",
      " 24  DistanceKm             float64\n",
      " 25  AirTimeH               float64\n",
      " 26  FlightSpeed            float64\n",
      " 27  LateLanding            bool   \n",
      " 28  LateTakeOff            bool   \n",
      " 29  ElapsedTimeDifference  float64\n",
      " 30  ArrivalDifference      float64\n",
      "dtypes: bool(2), float64(19), int64(8), object(2)\n",
      "memory usage: 447.0+ MB\n"
     ]
    }
   ],
   "source": [
    "df.info()"
   ]
  },
  {
   "cell_type": "markdown",
   "id": "e57c94ce",
   "metadata": {},
   "source": [
    "* Taula de les aerolínies amb més endarreriments acumulats"
   ]
  },
  {
   "cell_type": "code",
   "execution_count": 23,
   "id": "f5bb94fd",
   "metadata": {},
   "outputs": [
    {
     "data": {
      "text/plain": [
       "WN    324717\n",
       "AA    172197\n",
       "MQ    130647\n",
       "UA    123989\n",
       "OO    121942\n",
       "DL    100923\n",
       "XE     94313\n",
       "CO     83646\n",
       "US     83262\n",
       "EV     75170\n",
       "NW     72395\n",
       "FL     65008\n",
       "YV     63289\n",
       "OH     49104\n",
       "B6     48177\n",
       "9E     46896\n",
       "AS     34179\n",
       "F9     25708\n",
       "HA      7199\n",
       "AQ       654\n",
       "Name: UniqueCarrier, dtype: int64"
      ]
     },
     "execution_count": 23,
     "metadata": {},
     "output_type": "execute_result"
    }
   ],
   "source": [
    "late = df[\"LateLanding\"] == True\n",
    "df[late][\"UniqueCarrier\"].value_counts()"
   ]
  },
  {
   "cell_type": "markdown",
   "id": "bbf301e2",
   "metadata": {},
   "source": [
    "* Quins són els vols més llargs? "
   ]
  },
  {
   "cell_type": "code",
   "execution_count": 38,
   "id": "411694fc",
   "metadata": {},
   "outputs": [
    {
     "name": "stdout",
     "output_type": "stream",
     "text": [
      "3561206      15\n",
      "5906279      15\n",
      "5354393      15\n",
      "570303       15\n",
      "4194957      15\n",
      "           ... \n",
      "550589     9002\n",
      "151660     5610\n",
      "1637250    2009\n",
      "2547298    4988\n",
      "4392215    5572\n",
      "Name: FlightNum, Length: 1936758, dtype: int64\n"
     ]
    }
   ],
   "source": [
    "df = df.sort_values(by=[\"Distance\"], ascending = False)\n",
    "print(df.loc[:, \"FlightNum\"])"
   ]
  },
  {
   "cell_type": "markdown",
   "id": "b91edd81",
   "metadata": {},
   "source": [
    "* I els més endarrerits?"
   ]
  },
  {
   "cell_type": "code",
   "execution_count": 37,
   "id": "689cc2dc",
   "metadata": {},
   "outputs": [
    {
     "name": "stdout",
     "output_type": "stream",
     "text": [
      "3191777    5497\n",
      "5734413      36\n",
      "2365515     649\n",
      "6935966    1940\n",
      "5573115    6445\n",
      "           ... \n",
      "2927797      65\n",
      "535448       64\n",
      "1718865      64\n",
      "1107749      64\n",
      "6945761      65\n",
      "Name: FlightNum, Length: 1936758, dtype: int64\n"
     ]
    }
   ],
   "source": [
    "df = df.sort_values(by=[\"ArrivalDifference\"], ascending = False)\n",
    "print(df.loc[:, \"FlightNum\"])"
   ]
  },
  {
   "cell_type": "markdown",
   "id": "23cf2e2d",
   "metadata": {},
   "source": [
    "* Etc. "
   ]
  },
  {
   "cell_type": "markdown",
   "id": "5d6f7f7a",
   "metadata": {},
   "source": [
    "* Relació entre endarreriment i mes. Potser hi ha més endarreriments en mesos que la gent es va de vacances"
   ]
  },
  {
   "cell_type": "code",
   "execution_count": 26,
   "id": "63275edc",
   "metadata": {},
   "outputs": [
    {
     "data": {
      "text/plain": [
       "6     182955\n",
       "12    182945\n",
       "3     179833\n",
       "2     171311\n",
       "7     164534\n",
       "1     163801\n",
       "8     143013\n",
       "4     137941\n",
       "5     135421\n",
       "11     90855\n",
       "10     87989\n",
       "9      82817\n",
       "Name: Month, dtype: int64"
      ]
     },
     "execution_count": 26,
     "metadata": {},
     "output_type": "execute_result"
    }
   ],
   "source": [
    "late = df[\"LateLanding\"] == True\n",
    "df[late][\"Month\"].value_counts()"
   ]
  },
  {
   "cell_type": "markdown",
   "id": "3bedd749",
   "metadata": {},
   "source": [
    "* Relació entre endarreriment i dia de la setmana."
   ]
  },
  {
   "cell_type": "code",
   "execution_count": 27,
   "id": "01ea98bb",
   "metadata": {},
   "outputs": [
    {
     "data": {
      "text/plain": [
       "5    291280\n",
       "1    258998\n",
       "4    258790\n",
       "7    254550\n",
       "3    233500\n",
       "2    232407\n",
       "6    193890\n",
       "Name: DayOfWeek, dtype: int64"
      ]
     },
     "execution_count": 27,
     "metadata": {},
     "output_type": "execute_result"
    }
   ],
   "source": [
    "df[late][\"DayOfWeek\"].value_counts()\n",
    "#1 és dilluns i 7 es diumenge"
   ]
  },
  {
   "cell_type": "markdown",
   "id": "b2253e72",
   "metadata": {},
   "source": [
    "* Correlació distància i enrederiment d'arribada. Potser a més distancia recorreguda hi ha mes enrederiment"
   ]
  },
  {
   "cell_type": "code",
   "execution_count": 28,
   "id": "e8dfa462",
   "metadata": {},
   "outputs": [
    {
     "data": {
      "text/plain": [
       "-0.02985259624177865"
      ]
     },
     "execution_count": 28,
     "metadata": {},
     "output_type": "execute_result"
    }
   ],
   "source": [
    "df[\"Distance\"].corr(df[\"ArrDelay\"])"
   ]
  },
  {
   "cell_type": "markdown",
   "id": "7d5578d8",
   "metadata": {},
   "source": [
    "* Correlació enrederiment de sortida i d'arribada. Si es surt tard s'arriba tard?"
   ]
  },
  {
   "cell_type": "code",
   "execution_count": 29,
   "id": "6f592ba4",
   "metadata": {},
   "outputs": [
    {
     "data": {
      "text/plain": [
       "0.9529266852026773"
      ]
     },
     "execution_count": 29,
     "metadata": {},
     "output_type": "execute_result"
    }
   ],
   "source": [
    "df[\"DepDelay\"].corr(df[\"ArrDelay\"])"
   ]
  },
  {
   "cell_type": "markdown",
   "id": "4f4caea1",
   "metadata": {},
   "source": [
    "* Correlació enrederiment de sortida i velocitat de vol. Potser si un vol surt tard, s'intenta compensar amb velocitat"
   ]
  },
  {
   "cell_type": "code",
   "execution_count": 30,
   "id": "366ec432",
   "metadata": {},
   "outputs": [
    {
     "data": {
      "text/plain": [
       "-0.021017359921312054"
      ]
     },
     "execution_count": 30,
     "metadata": {},
     "output_type": "execute_result"
    }
   ],
   "source": [
    "df[\"DepDelay\"].corr(df[\"FlightSpeed\"])"
   ]
  },
  {
   "cell_type": "code",
   "execution_count": 39,
   "id": "f273986b",
   "metadata": {},
   "outputs": [
    {
     "name": "stdout",
     "output_type": "stream",
     "text": [
      "<class 'pandas.core.frame.DataFrame'>\n",
      "Int64Index: 1936758 entries, 3561206 to 4392215\n",
      "Data columns (total 31 columns):\n",
      " #   Column                 Dtype  \n",
      "---  ------                 -----  \n",
      " 0   Month                  int64  \n",
      " 1   DayofMonth             int64  \n",
      " 2   DayOfWeek              int64  \n",
      " 3   DepTime                float64\n",
      " 4   CRSDepTime             int64  \n",
      " 5   ArrTime                float64\n",
      " 6   CRSArrTime             int64  \n",
      " 7   UniqueCarrier          object \n",
      " 8   FlightNum              int64  \n",
      " 9   TailNum                object \n",
      " 10  ActualElapsedTime      float64\n",
      " 11  CRSElapsedTime         float64\n",
      " 12  AirTime                float64\n",
      " 13  ArrDelay               float64\n",
      " 14  DepDelay               float64\n",
      " 15  Distance               int64  \n",
      " 16  TaxiIn                 float64\n",
      " 17  TaxiOut                float64\n",
      " 18  Diverted               int64  \n",
      " 19  CarrierDelay           float64\n",
      " 20  WeatherDelay           float64\n",
      " 21  NASDelay               float64\n",
      " 22  SecurityDelay          float64\n",
      " 23  LateAircraftDelay      float64\n",
      " 24  DistanceKm             float64\n",
      " 25  AirTimeH               float64\n",
      " 26  FlightSpeed            float64\n",
      " 27  LateLanding            bool   \n",
      " 28  LateTakeOff            bool   \n",
      " 29  ElapsedTimeDifference  float64\n",
      " 30  ArrivalDifference      float64\n",
      "dtypes: bool(2), float64(19), int64(8), object(2)\n",
      "memory usage: 447.0+ MB\n"
     ]
    }
   ],
   "source": [
    "df.info()"
   ]
  },
  {
   "cell_type": "code",
   "execution_count": 48,
   "id": "7420a6b2",
   "metadata": {},
   "outputs": [],
   "source": [
    "df.to_csv(\"DelayedFlightsNet.csv\")"
   ]
  }
 ],
 "metadata": {
  "kernelspec": {
   "display_name": "Python 3 (ipykernel)",
   "language": "python",
   "name": "python3"
  },
  "language_info": {
   "codemirror_mode": {
    "name": "ipython",
    "version": 3
   },
   "file_extension": ".py",
   "mimetype": "text/x-python",
   "name": "python",
   "nbconvert_exporter": "python",
   "pygments_lexer": "ipython3",
   "version": "3.9.7"
  },
  "toc": {
   "base_numbering": 1,
   "nav_menu": {},
   "number_sections": true,
   "sideBar": true,
   "skip_h1_title": false,
   "title_cell": "Table of Contents",
   "title_sidebar": "Contents",
   "toc_cell": false,
   "toc_position": {},
   "toc_section_display": true,
   "toc_window_display": false
  }
 },
 "nbformat": 4,
 "nbformat_minor": 5
}
